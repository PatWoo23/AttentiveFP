Hi Xiong,

Nice work on your AttentiveFP!

I would like to use your network for my dataset. Is your model parameters stored in code/fpscores.pkl.gz? 

Apart from the Feature_visualization_of_Learning....ipynb, do you also have other demonstration files for how to use your network?

Appreciate your help and time!

Remarks: Is your email address zpxiong@simm.ac.cn still valid?
